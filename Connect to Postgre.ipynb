{
 "cells": [
  {
   "cell_type": "markdown",
   "id": "132cc1e6",
   "metadata": {},
   "source": [
    "## Install Required Libraries\n",
    "We use the `psycopg2` library to connect to PostgreSQL and `pandas` for handling data."
   ]
  },
  {
   "cell_type": "code",
   "execution_count": 1,
   "id": "8b43eb97",
   "metadata": {},
   "outputs": [],
   "source": [
    "!pip install psycopg2 pandas -q"
   ]
  },
  {
   "cell_type": "markdown",
   "id": "0b6d9ca2",
   "metadata": {},
   "source": [
    "### Connecting to PostgreSQL\n",
    "We establish a connection to the PostgreSQL database using the provided credentials:\n",
    "- **Username:** `postgres`\n",
    "- **Password:** `your password`\n",
    "- Default database: `your database name `\n"
   ]
  },
  {
   "cell_type": "code",
   "execution_count": 11,
   "id": "85d569e3",
   "metadata": {},
   "outputs": [
    {
     "name": "stdout",
     "output_type": "stream",
     "text": [
      "Database connection established successfully.\n"
     ]
    }
   ],
   "source": [
    "import psycopg2\n",
    "import pandas as pd\n",
    "\n",
    "# Database connection parameters\n",
    "db_config = {\n",
    "    \"host\": \"localhost\",  # Update this to your host, e.g., '127.0.0.1' or a remote IP\n",
    "    \"port\": 5432,         # Default PostgreSQL port\n",
    "    \"database\": \"films_ds30\",  # Update to the database you want to connect to\n",
    "    \"user\": \"postgres\",\n",
    "    \"password\": \"P@ssw0rd\"\n",
    "}\n",
    "\n",
    "# Connect to the PostgreSQL database\n",
    "try:\n",
    "    conn = psycopg2.connect(**db_config)\n",
    "    print(\"Database connection established successfully.\")\n",
    "except Exception as e:\n",
    "    print(f\"Error connecting to the database: {e}\")\n"
   ]
  },
  {
   "cell_type": "markdown",
   "id": "8fb0b11f",
   "metadata": {},
   "source": [
    "# Explore Tables\n",
    "Using the `information_schema.tables` system view, we list all tables in the database.\n"
   ]
  },
  {
   "cell_type": "code",
   "execution_count": 12,
   "id": "0a518233",
   "metadata": {},
   "outputs": [
    {
     "name": "stdout",
     "output_type": "stream",
     "text": [
      "Tables in the database:\n",
      "  table_schema table_name\n",
      "0       public   accounts\n",
      "1       public  employees\n",
      "2       public      films\n",
      "3       public     people\n",
      "4       public    reviews\n",
      "5       public      roles\n"
     ]
    },
    {
     "name": "stderr",
     "output_type": "stream",
     "text": [
      "C:\\Users\\Hassan\\AppData\\Local\\Temp\\ipykernel_3744\\37775748.py:9: UserWarning: pandas only supports SQLAlchemy connectable (engine/connection) or database string URI or sqlite3 DBAPI2 connection. Other DBAPI2 objects are not tested. Please consider using SQLAlchemy.\n",
      "  tables = pd.read_sql(query, conn)\n"
     ]
    }
   ],
   "source": [
    "# Query to fetch all tables in the database\n",
    "query = \"\"\"\n",
    "SELECT table_schema, table_name \n",
    "FROM information_schema.tables \n",
    "WHERE table_type = 'BASE TABLE' AND table_schema NOT IN ('information_schema', 'pg_catalog');\n",
    "\"\"\"\n",
    "\n",
    "try:\n",
    "    tables = pd.read_sql(query, conn)\n",
    "    print(\"Tables in the database:\")\n",
    "    print(tables)\n",
    "except Exception as e:\n",
    "    print(f\"Error retrieving tables: {e}\")\n"
   ]
  },
  {
   "cell_type": "markdown",
   "id": "0bec623e",
   "metadata": {},
   "source": [
    "### Retrieve Column Names and Data Types\n",
    "We will query the `information_schema.columns` view to get the column names and data types for each table in the database.\n"
   ]
  },
  {
   "cell_type": "code",
   "execution_count": 16,
   "id": "62233569",
   "metadata": {},
   "outputs": [
    {
     "name": "stdout",
     "output_type": "stream",
     "text": [
      "Columns for table 'people':\n",
      "  column_name          data_type\n",
      "0          id            integer\n",
      "1   birthdate               date\n",
      "2   deathdate               date\n",
      "3        name  character varying\n"
     ]
    },
    {
     "name": "stderr",
     "output_type": "stream",
     "text": [
      "C:\\Users\\Hassan\\AppData\\Local\\Temp\\ipykernel_3744\\1661854942.py:14: UserWarning: pandas only supports SQLAlchemy connectable (engine/connection) or database string URI or sqlite3 DBAPI2 connection. Other DBAPI2 objects are not tested. Please consider using SQLAlchemy.\n",
      "  columns_info = pd.read_sql(query, conn)\n"
     ]
    }
   ],
   "source": [
    "# Function to get column details for a specific table\n",
    "def get_table_columns(table_name):\n",
    "    query = f\"\"\"\n",
    "    SELECT \n",
    "        column_name, \n",
    "        data_type \n",
    "    FROM \n",
    "        information_schema.columns \n",
    "    WHERE \n",
    "        table_name = '{table_name}';\n",
    "    \"\"\"\n",
    "    try:\n",
    "        # Execute the query and load the results into a DataFrame\n",
    "        columns_info = pd.read_sql(query, conn)\n",
    "        print(f\"Columns for table '{table_name}':\")\n",
    "        print(columns_info)\n",
    "        return columns_info\n",
    "    except Exception as e:\n",
    "        print(f\"Error retrieving columns for table '{table_name}': {e}\")\n",
    "        return None\n",
    "\n",
    "# Example: Get columns for the 'employees' table\n",
    "table_name = \"people\"  # Replace with any table name from your list\n",
    "employees_columns = get_table_columns(table_name)\n"
   ]
  },
  {
   "cell_type": "markdown",
   "id": "0084e2da",
   "metadata": {},
   "source": [
    "### Load Data into Pandas DataFrame\n",
    "We select a specific table to load its contents into a Pandas DataFrame."
   ]
  },
  {
   "cell_type": "code",
   "execution_count": 6,
   "id": "bf8a5554",
   "metadata": {},
   "outputs": [
    {
     "name": "stdout",
     "output_type": "stream",
     "text": [
      "Data from films:\n",
      "   id                                             title  release_year  \\\n",
      "0   1  Intolerance: Love's Struggle Throughout the Ages        1916.0   \n",
      "1   2                    Over the Hill to the Poorhouse        1920.0   \n",
      "2   3                                    The Big Parade        1925.0   \n",
      "3   4                                        Metropolis        1927.0   \n",
      "4   5                                     Pandora's Box        1929.0   \n",
      "\n",
      "   country  duration language certification      gross     budget  \n",
      "0      USA     123.0     None     Not Rated        NaN   385907.0  \n",
      "1      USA     110.0     None          None  3000000.0   100000.0  \n",
      "2      USA     151.0     None     Not Rated        NaN   245000.0  \n",
      "3  Germany     145.0   German     Not Rated    26435.0  6000000.0  \n",
      "4  Germany     110.0   German     Not Rated     9950.0        NaN  \n"
     ]
    },
    {
     "name": "stderr",
     "output_type": "stream",
     "text": [
      "C:\\Users\\Hassan\\AppData\\Local\\Temp\\ipykernel_3744\\1304803291.py:6: UserWarning: pandas only supports SQLAlchemy connectable (engine/connection) or database string URI or sqlite3 DBAPI2 connection. Other DBAPI2 objects are not tested. Please consider using SQLAlchemy.\n",
      "  data = pd.read_sql(f\"SELECT * FROM {table_name};\", conn)\n"
     ]
    }
   ],
   "source": [
    "# Specify the table you want to load (update this with an actual table name from the output above)\n",
    "table_name = \"films\"  # Replace with the desired table name\n",
    "\n",
    "# Load the data into a Pandas DataFrame\n",
    "try:\n",
    "    data = pd.read_sql(f\"SELECT * FROM {table_name};\", conn)\n",
    "    print(f\"Data from {table_name}:\")\n",
    "    print(data.head())  # Display the first few rows of the table\n",
    "except Exception as e:\n",
    "    print(f\"Error loading data from table '{table_name}': {e}\")"
   ]
  },
  {
   "cell_type": "markdown",
   "id": "29fa5b64",
   "metadata": {},
   "source": [
    "### Introduction to Window Functions\n",
    "Window functions perform calculations across a set of rows related to the current row, producing a result for every row. Unlike aggregate functions (e.g., `SUM`, `AVG`), window functions do not group rows into a single output.\n",
    "\n",
    "Key concept: The `OVER` clause defines the \"window\" over which the function operates. Without parameters, the `OVER` clause applies the function to the entire dataset.\n",
    "\n",
    "Example: Using `ROW_NUMBER()` without additional parameters:\n",
    "- Assigns a unique sequential number to each row based on the order in which they appear.\n"
   ]
  },
  {
   "cell_type": "code",
   "execution_count": 17,
   "id": "5f50fe17",
   "metadata": {},
   "outputs": [
    {
     "name": "stdout",
     "output_type": "stream",
     "text": [
      "ROW_NUMBER() over all rows (no parameters):\n",
      "   id                                             title  row_number\n",
      "0   1  Intolerance: Love's Struggle Throughout the Ages           1\n",
      "1   2                    Over the Hill to the Poorhouse           2\n",
      "2   3                                    The Big Parade           3\n",
      "3   4                                        Metropolis           4\n",
      "4   5                                     Pandora's Box           5\n",
      "5   6                               The Broadway Melody           6\n",
      "6   7                                     Hell's Angels           7\n",
      "7   8                                A Farewell to Arms           8\n",
      "8   9                                       42nd Street           9\n",
      "9  10                                She Done Him Wrong          10\n"
     ]
    },
    {
     "name": "stderr",
     "output_type": "stream",
     "text": [
      "C:\\Users\\Hassan\\AppData\\Local\\Temp\\ipykernel_3744\\253893807.py:12: UserWarning: pandas only supports SQLAlchemy connectable (engine/connection) or database string URI or sqlite3 DBAPI2 connection. Other DBAPI2 objects are not tested. Please consider using SQLAlchemy.\n",
      "  result = pd.read_sql(query, conn)\n"
     ]
    }
   ],
   "source": [
    "# ROW_NUMBER() applied over the entire dataset\n",
    "query = \"\"\"\n",
    "SELECT \n",
    "    id, \n",
    "    title, \n",
    "    ROW_NUMBER() OVER () AS row_number\n",
    "FROM films\n",
    "LIMIT 10;\n",
    "\"\"\"\n",
    "\n",
    "try:\n",
    "    result = pd.read_sql(query, conn)\n",
    "    print(\"ROW_NUMBER() over all rows (no parameters):\")\n",
    "    print(result)\n",
    "except Exception as e:\n",
    "    print(f\"Error executing query: {e}\")\n"
   ]
  },
  {
   "cell_type": "markdown",
   "id": "f26f9d14",
   "metadata": {},
   "source": [
    "### PARTITION BY in Window Functions\n",
    "`PARTITION BY` divides the data into subsets (partitions) and applies the window function within each subset.\n",
    "\n",
    "Example: Assigning `ROW_NUMBER()` to films grouped by `release_year`. The numbering restarts for each year.\n"
   ]
  },
  {
   "cell_type": "code",
   "execution_count": 18,
   "id": "286c92c0",
   "metadata": {},
   "outputs": [
    {
     "name": "stdout",
     "output_type": "stream",
     "text": [
      "ROW_NUMBER() with PARTITION BY release_year:\n",
      "    release_year                                             title  row_number\n",
      "0           1916  Intolerance: Love's Struggle Throughout the Ages           1\n",
      "1           1920                    Over the Hill to the Poorhouse           1\n",
      "2           1925                                    The Big Parade           1\n",
      "3           1927                                        Metropolis           1\n",
      "4           1929                               The Broadway Melody           1\n",
      "5           1929                                     Pandora's Box           2\n",
      "6           1930                                     Hell's Angels           1\n",
      "7           1932                                A Farewell to Arms           1\n",
      "8           1933                                She Done Him Wrong           1\n",
      "9           1933                                       42nd Street           2\n",
      "10          1934                             It Happened One Night           1\n",
      "11          1935                                           Top Hat           1\n",
      "12          1936                   The Charge of the Light Brigade           1\n",
      "13          1936                                      Modern Times           2\n",
      "14          1937                             The Prisoner of Zenda           1\n",
      "15          1937                   Snow White and the Seven Dwarfs           2\n",
      "16          1938                          Alexander's Ragtime Band           1\n",
      "17          1938                        You Can't Take It with You           2\n",
      "18          1939                      Mr. Smith Goes to Washington           1\n",
      "19          1939                                Gone with the Wind           2\n"
     ]
    },
    {
     "name": "stderr",
     "output_type": "stream",
     "text": [
      "C:\\Users\\Hassan\\AppData\\Local\\Temp\\ipykernel_3744\\938330761.py:13: UserWarning: pandas only supports SQLAlchemy connectable (engine/connection) or database string URI or sqlite3 DBAPI2 connection. Other DBAPI2 objects are not tested. Please consider using SQLAlchemy.\n",
      "  result = pd.read_sql(query, conn)\n"
     ]
    }
   ],
   "source": [
    "query = \"\"\"\n",
    "SELECT \n",
    "    release_year, \n",
    "    title, \n",
    "    ROW_NUMBER() OVER (PARTITION BY release_year ORDER BY gross DESC) AS row_number\n",
    "FROM films\n",
    "WHERE release_year IS NOT NULL\n",
    "ORDER BY release_year, row_number\n",
    "LIMIT 20;\n",
    "\"\"\"\n",
    "\n",
    "try:\n",
    "    result = pd.read_sql(query, conn)\n",
    "    print(\"ROW_NUMBER() with PARTITION BY release_year:\")\n",
    "    print(result)\n",
    "except Exception as e:\n",
    "    print(f\"Error executing query: {e}\")\n"
   ]
  },
  {
   "cell_type": "markdown",
   "id": "b6910f02",
   "metadata": {},
   "source": [
    "#### ORDER BY in Window Functions\n",
    "Adding `ORDER BY` to the `OVER` clause specifies how rows should be sorted within the partition before the window function is applied.\n",
    "\n",
    "Example: Ranking films by `gross` within each `release_year`.\n"
   ]
  },
  {
   "cell_type": "code",
   "execution_count": 19,
   "id": "b7a73795",
   "metadata": {},
   "outputs": [
    {
     "name": "stdout",
     "output_type": "stream",
     "text": [
      "RANK() with PARTITION BY release_year and ORDER BY gross:\n",
      "    release_year                            title      gross  rank\n",
      "0           1920   Over the Hill to the Poorhouse    3000000     1\n",
      "1           1927                       Metropolis      26435     1\n",
      "2           1929              The Broadway Melody    2808000     1\n",
      "3           1929                    Pandora's Box       9950     2\n",
      "4           1933                      42nd Street    2300000     1\n",
      "5           1935                          Top Hat    3000000     1\n",
      "6           1936                     Modern Times     163245     1\n",
      "7           1937  Snow White and the Seven Dwarfs  184925485     1\n",
      "8           1939               Gone with the Wind  198655278     1\n",
      "9           1939                 The Wizard of Oz   22202612     2\n",
      "10          1940                        Pinocchio   84300000     1\n",
      "11          1940                         Fantasia   76400000     2\n",
      "12          1942                            Bambi  102797150     1\n",
      "13          1946      The Best Years of Our Lives   23650000     1\n",
      "14          1946                  Duel in the Sun   20400000     2\n",
      "15          1947           The Lady from Shanghai       7927     1\n",
      "16          1948                       The Pirate    2956000     1\n",
      "17          1950               Annie Get Your Gun    8000000     1\n",
      "18          1952       The Greatest Show on Earth   36000000     1\n",
      "19          1953                         The Robe   36000000     1\n"
     ]
    },
    {
     "name": "stderr",
     "output_type": "stream",
     "text": [
      "C:\\Users\\Hassan\\AppData\\Local\\Temp\\ipykernel_3744\\3135609524.py:14: UserWarning: pandas only supports SQLAlchemy connectable (engine/connection) or database string URI or sqlite3 DBAPI2 connection. Other DBAPI2 objects are not tested. Please consider using SQLAlchemy.\n",
      "  result = pd.read_sql(query, conn)\n"
     ]
    }
   ],
   "source": [
    "query = \"\"\"\n",
    "SELECT \n",
    "    release_year, \n",
    "    title, \n",
    "    gross, \n",
    "    RANK() OVER (PARTITION BY release_year ORDER BY gross DESC) AS rank\n",
    "FROM films\n",
    "WHERE release_year IS NOT NULL AND gross IS NOT NULL\n",
    "ORDER BY release_year, rank\n",
    "LIMIT 20;\n",
    "\"\"\"\n",
    "\n",
    "try:\n",
    "    result = pd.read_sql(query, conn)\n",
    "    print(\"RANK() with PARTITION BY release_year and ORDER BY gross:\")\n",
    "    print(result)\n",
    "except Exception as e:\n",
    "    print(f\"Error executing query: {e}\")\n"
   ]
  },
  {
   "cell_type": "markdown",
   "id": "d55b50c3",
   "metadata": {},
   "source": [
    "### Combining Multiple Window Functions\n",
    "We can calculate multiple window functions in a single query. For example:\n",
    "- `ROW_NUMBER()` assigns a unique number to each row in the partition.\n",
    "- `RANK()` gives the rank of a row within its partition, with gaps for tied values.\n",
    "- `DENSE_RANK()` is like `RANK()`, but without gaps.\n",
    "\n",
    "Example: Applying these functions to rank actors (`people`) based on their number of roles.\n"
   ]
  },
  {
   "cell_type": "code",
   "execution_count": 20,
   "id": "9eb8f8d3",
   "metadata": {},
   "outputs": [
    {
     "name": "stdout",
     "output_type": "stream",
     "text": [
      "ROW_NUMBER(), RANK(), and DENSE_RANK() for actors based on total roles:\n",
      "             name  total_roles  row_number  rank  dense_rank\n",
      "0  Robert De Niro           54           1     1           1\n",
      "1  Morgan Freeman           47           2     2           2\n",
      "2     Johnny Depp           41           3     3           3\n",
      "3    Bruce Willis           40           4     4           4\n",
      "4   Steve Buscemi           39           5     5           5\n",
      "5      Matt Damon           38           6     6           6\n",
      "6  Clint Eastwood           36           7     7           7\n",
      "7     Liam Neeson           34          10     8           8\n",
      "8     Bill Murray           34           9     8           8\n",
      "9       Brad Pitt           34           8     8           8\n"
     ]
    },
    {
     "name": "stderr",
     "output_type": "stream",
     "text": [
      "C:\\Users\\Hassan\\AppData\\Local\\Temp\\ipykernel_3744\\2392903805.py:16: UserWarning: pandas only supports SQLAlchemy connectable (engine/connection) or database string URI or sqlite3 DBAPI2 connection. Other DBAPI2 objects are not tested. Please consider using SQLAlchemy.\n",
      "  result = pd.read_sql(query, conn)\n"
     ]
    }
   ],
   "source": [
    "query = \"\"\"\n",
    "SELECT \n",
    "    p.name, \n",
    "    COUNT(r.id) AS total_roles,\n",
    "    ROW_NUMBER() OVER (ORDER BY COUNT(r.id) DESC) AS row_number,\n",
    "    RANK() OVER (ORDER BY COUNT(r.id) DESC) AS rank,\n",
    "    DENSE_RANK() OVER (ORDER BY COUNT(r.id) DESC) AS dense_rank\n",
    "FROM people p\n",
    "LEFT JOIN roles r ON p.id = r.person_id\n",
    "GROUP BY p.id, p.name\n",
    "ORDER BY rank\n",
    "LIMIT 10;\n",
    "\"\"\"\n",
    "\n",
    "try:\n",
    "    result = pd.read_sql(query, conn)\n",
    "    print(\"ROW_NUMBER(), RANK(), and DENSE_RANK() for actors based on total roles:\")\n",
    "    print(result)\n",
    "except Exception as e:\n",
    "    print(f\"Error executing query: {e}\")\n"
   ]
  },
  {
   "cell_type": "markdown",
   "id": "3a6b4b21",
   "metadata": {},
   "source": [
    "### Window Functions for Aggregate Calculations\n",
    "Aggregate functions can also use `OVER` to compute running totals or averages without grouping rows into a single output.\n",
    "\n",
    "Example: Calculating cumulative gross revenue for films sorted by `release_year`.\n"
   ]
  },
  {
   "cell_type": "code",
   "execution_count": 21,
   "id": "82fb0482",
   "metadata": {},
   "outputs": [
    {
     "name": "stdout",
     "output_type": "stream",
     "text": [
      "Cumulative gross revenue for films:\n",
      "    release_year                            title      gross  cumulative_gross\n",
      "0           1920   Over the Hill to the Poorhouse    3000000         3000000.0\n",
      "1           1927                       Metropolis      26435           26435.0\n",
      "2           1929                    Pandora's Box       9950         2817950.0\n",
      "3           1929              The Broadway Melody    2808000         2808000.0\n",
      "4           1933                      42nd Street    2300000         2300000.0\n",
      "5           1935                          Top Hat    3000000         3000000.0\n",
      "6           1936                     Modern Times     163245          163245.0\n",
      "7           1937  Snow White and the Seven Dwarfs  184925485       184925485.0\n",
      "8           1939                 The Wizard of Oz   22202612       220857890.0\n",
      "9           1939               Gone with the Wind  198655278       198655278.0\n",
      "10          1940                         Fantasia   76400000       160700000.0\n",
      "11          1940                        Pinocchio   84300000        84300000.0\n",
      "12          1942                            Bambi  102797150       102797150.0\n",
      "13          1946                  Duel in the Sun   20400000        44050000.0\n",
      "14          1946      The Best Years of Our Lives   23650000        23650000.0\n",
      "15          1947           The Lady from Shanghai       7927            7927.0\n",
      "16          1948                       The Pirate    2956000         2956000.0\n",
      "17          1950               Annie Get Your Gun    8000000         8000000.0\n",
      "18          1952       The Greatest Show on Earth   36000000        36000000.0\n",
      "19          1953    The Beast from 20,000 Fathoms    5000000        41000000.0\n"
     ]
    },
    {
     "name": "stderr",
     "output_type": "stream",
     "text": [
      "C:\\Users\\Hassan\\AppData\\Local\\Temp\\ipykernel_3744\\3420081276.py:14: UserWarning: pandas only supports SQLAlchemy connectable (engine/connection) or database string URI or sqlite3 DBAPI2 connection. Other DBAPI2 objects are not tested. Please consider using SQLAlchemy.\n",
      "  result = pd.read_sql(query, conn)\n"
     ]
    }
   ],
   "source": [
    "query = \"\"\"\n",
    "SELECT \n",
    "    release_year, \n",
    "    title, \n",
    "    gross,\n",
    "    SUM(gross) OVER (PARTITION BY release_year ORDER BY gross DESC) AS cumulative_gross\n",
    "FROM films\n",
    "WHERE release_year IS NOT NULL AND gross IS NOT NULL\n",
    "ORDER BY release_year, cumulative_gross DESC\n",
    "LIMIT 20;\n",
    "\"\"\"\n",
    "\n",
    "try:\n",
    "    result = pd.read_sql(query, conn)\n",
    "    print(\"Cumulative gross revenue for films:\")\n",
    "    print(result)\n",
    "except Exception as e:\n",
    "    print(f\"Error executing query: {e}\")\n"
   ]
  },
  {
   "cell_type": "markdown",
   "id": "5e025ceb",
   "metadata": {},
   "source": [
    "### Frame Specification in Window Functions\n",
    "In window functions, the `ROWS` or `RANGE` clause defines the \"frame\" of rows that the function operates over within the window. This frame can be dynamically defined using keywords like:\n",
    "- **UNBOUNDED PRECEDING**: Includes all rows from the start of the partition up to the current row.\n",
    "- **PRECEDING**: Includes a specified number of rows before the current row.\n",
    "- **CURRENT ROW**: Includes only the current row.\n",
    "- **FOLLOWING**: Includes a specified number of rows after the current row.\n",
    "- **UNBOUNDED FOLLOWING**: Includes all rows from the current row to the end of the partition.\n",
    "\n",
    "**Default Behavior:** If no frame is specified, most functions implicitly use `RANGE UNBOUNDED PRECEDING AND CURRENT ROW`.\n",
    "\n",
    "#### Example 1: Cumulative Sum with UNBOUNDED PRECEDING\n",
    "We calculate the running total gross revenue for films within each `release_year`.\n"
   ]
  },
  {
   "cell_type": "code",
   "execution_count": 22,
   "id": "7665fedf",
   "metadata": {},
   "outputs": [
    {
     "name": "stdout",
     "output_type": "stream",
     "text": [
      "Cumulative gross revenue (UNBOUNDED PRECEDING):\n",
      "    release_year                            title      gross  cumulative_gross\n",
      "0           1920   Over the Hill to the Poorhouse    3000000         3000000.0\n",
      "1           1927                       Metropolis      26435           26435.0\n",
      "2           1929                    Pandora's Box       9950         2817950.0\n",
      "3           1929              The Broadway Melody    2808000         2808000.0\n",
      "4           1933                      42nd Street    2300000         2300000.0\n",
      "5           1935                          Top Hat    3000000         3000000.0\n",
      "6           1936                     Modern Times     163245          163245.0\n",
      "7           1937  Snow White and the Seven Dwarfs  184925485       184925485.0\n",
      "8           1939                 The Wizard of Oz   22202612       220857890.0\n",
      "9           1939               Gone with the Wind  198655278       198655278.0\n",
      "10          1940                         Fantasia   76400000       160700000.0\n",
      "11          1940                        Pinocchio   84300000        84300000.0\n",
      "12          1942                            Bambi  102797150       102797150.0\n",
      "13          1946                  Duel in the Sun   20400000        44050000.0\n",
      "14          1946      The Best Years of Our Lives   23650000        23650000.0\n",
      "15          1947           The Lady from Shanghai       7927            7927.0\n",
      "16          1948                       The Pirate    2956000         2956000.0\n",
      "17          1950               Annie Get Your Gun    8000000         8000000.0\n",
      "18          1952       The Greatest Show on Earth   36000000        36000000.0\n",
      "19          1953    The Beast from 20,000 Fathoms    5000000        41000000.0\n"
     ]
    },
    {
     "name": "stderr",
     "output_type": "stream",
     "text": [
      "C:\\Users\\Hassan\\AppData\\Local\\Temp\\ipykernel_3744\\297529719.py:14: UserWarning: pandas only supports SQLAlchemy connectable (engine/connection) or database string URI or sqlite3 DBAPI2 connection. Other DBAPI2 objects are not tested. Please consider using SQLAlchemy.\n",
      "  result = pd.read_sql(query, conn)\n"
     ]
    }
   ],
   "source": [
    "query = \"\"\"\n",
    "SELECT \n",
    "    release_year, \n",
    "    title, \n",
    "    gross,\n",
    "    SUM(gross) OVER (PARTITION BY release_year ORDER BY gross DESC ROWS UNBOUNDED PRECEDING) AS cumulative_gross\n",
    "FROM films\n",
    "WHERE release_year IS NOT NULL AND gross IS NOT NULL\n",
    "ORDER BY release_year, cumulative_gross DESC\n",
    "LIMIT 20;\n",
    "\"\"\"\n",
    "\n",
    "try:\n",
    "    result = pd.read_sql(query, conn)\n",
    "    print(\"Cumulative gross revenue (UNBOUNDED PRECEDING):\")\n",
    "    print(result)\n",
    "except Exception as e:\n",
    "    print(f\"Error executing query: {e}\")\n"
   ]
  },
  {
   "cell_type": "markdown",
   "id": "a6e014c2",
   "metadata": {},
   "source": [
    "#### Example 2: Rolling Average with PRECEDING and FOLLOWING\n",
    "We calculate the rolling average IMDb score for reviews. The frame includes the current row, the two preceding rows, and the two following rows.\n"
   ]
  },
  {
   "cell_type": "code",
   "execution_count": 25,
   "id": "e17cf5de",
   "metadata": {},
   "outputs": [
    {
     "name": "stdout",
     "output_type": "stream",
     "text": [
      "Rolling average IMDb score (2 PRECEDING, 2 FOLLOWING):\n",
      "    film_id  imdb_score  rolling_avg\n",
      "0         1         8.0          8.0\n",
      "1         2         4.8          4.8\n",
      "2         3         8.3          8.3\n",
      "3         4         8.3          8.3\n",
      "4         5         8.0          8.0\n",
      "5         6         6.3          6.3\n",
      "6         7         7.8          7.8\n",
      "7         8         6.6          6.6\n",
      "8         9         7.7          7.7\n",
      "9        10         6.5          6.5\n",
      "10       11         8.2          8.2\n",
      "11       12         7.8          7.8\n",
      "12       13         8.6          8.6\n",
      "13       14         7.1          7.1\n",
      "14       15         7.7          7.7\n",
      "15       16         7.8          7.8\n",
      "16       17         7.0          7.0\n",
      "17       18         8.0          8.0\n",
      "18       19         8.2          8.2\n",
      "19       20         8.2          8.2\n"
     ]
    },
    {
     "name": "stderr",
     "output_type": "stream",
     "text": [
      "C:\\Users\\Hassan\\AppData\\Local\\Temp\\ipykernel_3744\\2936787995.py:13: UserWarning: pandas only supports SQLAlchemy connectable (engine/connection) or database string URI or sqlite3 DBAPI2 connection. Other DBAPI2 objects are not tested. Please consider using SQLAlchemy.\n",
      "  result = pd.read_sql(query, conn)\n"
     ]
    }
   ],
   "source": [
    "query = \"\"\"\n",
    "SELECT \n",
    "    film_id, \n",
    "    imdb_score, \n",
    "    AVG(imdb_score) OVER (PARTITION BY film_id ORDER BY imdb_score ROWS BETWEEN 2 PRECEDING AND 2 FOLLOWING) AS rolling_avg\n",
    "FROM reviews\n",
    "WHERE imdb_score IS NOT NULL\n",
    "ORDER BY film_id, imdb_score\n",
    "LIMIT 20;\n",
    "\"\"\"\n",
    "\n",
    "try:\n",
    "    result = pd.read_sql(query, conn)\n",
    "    print(\"Rolling average IMDb score (2 PRECEDING, 2 FOLLOWING):\")\n",
    "    print(result)\n",
    "except Exception as e:\n",
    "    print(f\"Error executing query: {e}\")\n"
   ]
  },
  {
   "cell_type": "markdown",
   "id": "25679157",
   "metadata": {},
   "source": [
    "#### Example 3: Using UNBOUNDED FOLLOWING\n",
    "We calculate the remaining gross for films, which includes the sum of all gross revenues from the current row to the end of the partition.\n"
   ]
  },
  {
   "cell_type": "code",
   "execution_count": 24,
   "id": "c7643308",
   "metadata": {},
   "outputs": [
    {
     "name": "stdout",
     "output_type": "stream",
     "text": [
      "Remaining gross revenue (UNBOUNDED FOLLOWING):\n",
      "    release_year                            title      gross  remaining_gross\n",
      "0           1920   Over the Hill to the Poorhouse    3000000        3000000.0\n",
      "1           1927                       Metropolis      26435          26435.0\n",
      "2           1929              The Broadway Melody    2808000        2817950.0\n",
      "3           1929                    Pandora's Box       9950           9950.0\n",
      "4           1933                      42nd Street    2300000        2300000.0\n",
      "5           1935                          Top Hat    3000000        3000000.0\n",
      "6           1936                     Modern Times     163245         163245.0\n",
      "7           1937  Snow White and the Seven Dwarfs  184925485      184925485.0\n",
      "8           1939               Gone with the Wind  198655278      220857890.0\n",
      "9           1939                 The Wizard of Oz   22202612       22202612.0\n",
      "10          1940                        Pinocchio   84300000      160700000.0\n",
      "11          1940                         Fantasia   76400000       76400000.0\n",
      "12          1942                            Bambi  102797150      102797150.0\n",
      "13          1946      The Best Years of Our Lives   23650000       44050000.0\n",
      "14          1946                  Duel in the Sun   20400000       20400000.0\n",
      "15          1947           The Lady from Shanghai       7927           7927.0\n",
      "16          1948                       The Pirate    2956000        2956000.0\n",
      "17          1950               Annie Get Your Gun    8000000        8000000.0\n",
      "18          1952       The Greatest Show on Earth   36000000       36000000.0\n",
      "19          1953                         The Robe   36000000       41000000.0\n"
     ]
    },
    {
     "name": "stderr",
     "output_type": "stream",
     "text": [
      "C:\\Users\\Hassan\\AppData\\Local\\Temp\\ipykernel_3744\\3799183158.py:14: UserWarning: pandas only supports SQLAlchemy connectable (engine/connection) or database string URI or sqlite3 DBAPI2 connection. Other DBAPI2 objects are not tested. Please consider using SQLAlchemy.\n",
      "  result = pd.read_sql(query, conn)\n"
     ]
    }
   ],
   "source": [
    "query = \"\"\"\n",
    "SELECT \n",
    "    release_year, \n",
    "    title, \n",
    "    gross,\n",
    "    SUM(gross) OVER (PARTITION BY release_year ORDER BY gross DESC ROWS BETWEEN CURRENT ROW AND UNBOUNDED FOLLOWING) AS remaining_gross\n",
    "FROM films\n",
    "WHERE release_year IS NOT NULL AND gross IS NOT NULL\n",
    "ORDER BY release_year, remaining_gross DESC\n",
    "LIMIT 20;\n",
    "\"\"\"\n",
    "\n",
    "try:\n",
    "    result = pd.read_sql(query, conn)\n",
    "    print(\"Remaining gross revenue (UNBOUNDED FOLLOWING):\")\n",
    "    print(result)\n",
    "except Exception as e:\n",
    "    print(f\"Error executing query: {e}\")\n"
   ]
  },
  {
   "cell_type": "markdown",
   "id": "484e4d3b",
   "metadata": {},
   "source": [
    "### Closing the Database Connection\n",
    "Always close the database connection when done to free up resources."
   ]
  },
  {
   "cell_type": "code",
   "execution_count": 26,
   "id": "6ed7e8c9",
   "metadata": {},
   "outputs": [
    {
     "name": "stdout",
     "output_type": "stream",
     "text": [
      "Database connection closed.\n"
     ]
    }
   ],
   "source": [
    "conn.close()\n",
    "print(\"Database connection closed.\")"
   ]
  },
  {
   "cell_type": "code",
   "execution_count": null,
   "id": "85c90ea5",
   "metadata": {},
   "outputs": [],
   "source": []
  }
 ],
 "metadata": {
  "kernelspec": {
   "display_name": "Python 3 (ipykernel)",
   "language": "python",
   "name": "python3"
  },
  "language_info": {
   "codemirror_mode": {
    "name": "ipython",
    "version": 3
   },
   "file_extension": ".py",
   "mimetype": "text/x-python",
   "name": "python",
   "nbconvert_exporter": "python",
   "pygments_lexer": "ipython3",
   "version": "3.10.0"
  }
 },
 "nbformat": 4,
 "nbformat_minor": 5
}
